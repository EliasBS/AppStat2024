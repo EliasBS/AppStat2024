{
 "cells": [
  {
   "cell_type": "code",
   "execution_count": 2,
   "metadata": {},
   "outputs": [],
   "source": [
    "import numpy as np\n",
    "import sympy as sp\n",
    "import matplotlib.pyplot as plt\n",
    "import iminuit\n",
    "from IPython.display import display, Math, Latex"
   ]
  },
  {
   "cell_type": "markdown",
   "metadata": {},
   "source": [
    "# **I – Distributions and probabilities:**\n"
   ]
  },
  {
   "cell_type": "markdown",
   "metadata": {},
   "source": [
    "## Problem 1.1 (6 points) An electronic device depends on three components each with independent probabilities 0.009, 0.016, and 0.027 of failing per year.\n"
   ]
  },
  {
   "cell_type": "markdown",
   "metadata": {},
   "source": [
    "### • What is the probability that the device will not fail in the first year?"
   ]
  },
  {
   "cell_type": "code",
   "execution_count": 3,
   "metadata": {},
   "outputs": [
    {
     "name": "stdout",
     "output_type": "stream",
     "text": [
      "Probability of not failing in the first year: 0.948815112\n"
     ]
    }
   ],
   "source": [
    "probabilities_of_fail_comp = np.array([0.009, 0.016, 0.027])\n",
    "probabilities_of_not_fail_comp = 1 - probabilities_of_fail_comp\n",
    "\n",
    "prob_not_fail = np.prod(probabilities_of_not_fail_comp)\n",
    "\n",
    "print(f\"Probability of not failing in the first year: {prob_not_fail}\")"
   ]
  },
  {
   "cell_type": "markdown",
   "metadata": {},
   "source": [
    "### • After how many years is the probability of failure greater than 50%?"
   ]
  },
  {
   "cell_type": "markdown",
   "metadata": {},
   "source": [
    "I need to solve the equation:\n",
    "\n",
    "$P^n = 0.5$ - Where n is the number of years\n",
    "\n",
    "Take the logarithm of both sides and isolate n:\n",
    "\n",
    "$n = \\frac{log(0.5)}{log(P)}$\n",
    "\n"
   ]
  },
  {
   "cell_type": "code",
   "execution_count": 4,
   "metadata": {},
   "outputs": [
    {
     "name": "stdout",
     "output_type": "stream",
     "text": [
      "Years until failure: 13.192419527978739\n"
     ]
    }
   ],
   "source": [
    "years_until_fail = np.log(0.5) / np.log(prob_not_fail)\n",
    "print(f\"Years until failure: {years_until_fail}\")"
   ]
  },
  {
   "cell_type": "markdown",
   "metadata": {},
   "source": [
    "## 1.2 (8 points) A store has 52.8 customers/day, and considers the top 20% busiest days to be. . . busy!"
   ]
  },
  {
   "cell_type": "markdown",
   "metadata": {},
   "source": [
    "### • What distribution should the number of daily customers follow and why? \n",
    "$\\textbf{NOT SOLVED}$"
   ]
  },
  {
   "cell_type": "markdown",
   "metadata": {},
   "source": [
    "# ***II – Error propagation:***"
   ]
  },
  {
   "cell_type": "markdown",
   "metadata": {},
   "source": [
    "## 2.1 (10 points) You make nine measurements of the speed of sound in water, and obtain as follows:"
   ]
  },
  {
   "cell_type": "code",
   "execution_count": 5,
   "metadata": {},
   "outputs": [],
   "source": [
    "Speed_of_sound = np.array([1532, 1458, 1499,1394,1432,1565,1474,1440,1597])\n",
    "speed_error = np.array([67, 55, 74, 129, 84, 19,10, 17, 14])"
   ]
  },
  {
   "cell_type": "markdown",
   "metadata": {},
   "source": [
    "### • What is the combined result and uncertainty of all your measurements?\n"
   ]
  },
  {
   "cell_type": "code",
   "execution_count": 6,
   "metadata": {},
   "outputs": [
    {
     "name": "stdout",
     "output_type": "stream",
     "text": [
      "Combined result: 1508.28 +- 6.70\n"
     ]
    }
   ],
   "source": [
    "def weighted(values, errors):\n",
    "    weights = 1 / errors**2  # Using p.83 in Barlow\n",
    "    result = np.sum(values / errors**2) / np.sum(weights)\n",
    "    error = 1 / np.sqrt(np.sum(weights))\n",
    "    # error = error* np.sqrt(np.sum(weights**2)) # This is if the data is  independent and identically distributed random variables\n",
    "    return result, error\n",
    "\n",
    "combined_result, combined_error = weighted(Speed_of_sound, speed_error)\n",
    "print(f\"Combined result: {combined_result:.2f} +- {combined_error:.2f}\")\n"
   ]
  },
  {
   "cell_type": "markdown",
   "metadata": {},
   "source": [
    "### • How much does adding the first five measurements improve the precision compared to the last four?"
   ]
  },
  {
   "cell_type": "code",
   "execution_count": 7,
   "metadata": {},
   "outputs": [
    {
     "name": "stdout",
     "output_type": "stream",
     "text": [
      "Combined result for first five measurements: 1475.53 +- 32.66\n",
      "Combined result for last four measurements: 1509.72 +- 6.85\n",
      "Improvement in precision: 1.02 times\n"
     ]
    }
   ],
   "source": [
    "\n",
    "first_five_measurements = Speed_of_sound[:5]\n",
    "first_five_errors = speed_error[:5]\n",
    "\n",
    "last_four_measurements = Speed_of_sound[-4:]\n",
    "last_four_errors = speed_error[-4:]\n",
    "\n",
    "result_first_five, error_first_five = weighted(first_five_measurements, first_five_errors)\n",
    "\n",
    "result_last_four, error_last_four = weighted(last_four_measurements, last_four_errors)\n",
    "\n",
    "print(f\"Combined result for first five measurements: {result_first_five:.2f} +- {error_first_five:.2f}\")\n",
    "print(f\"Combined result for last four measurements: {result_last_four:.2f} +- {error_last_four:.2f}\")\n",
    "\n",
    "improvement = result_last_four / result_first_five\n",
    "print(f\"Improvement in precision: {improvement:.2f} times\")"
   ]
  },
  {
   "cell_type": "markdown",
   "metadata": {},
   "source": [
    "# ***III – Simulation / Monte Carlo:***"
   ]
  },
  {
   "cell_type": "markdown",
   "metadata": {},
   "source": [
    "### 3.1  (10 points) You shoot a penalty, and the probability of scoring depends on the position x (in m)you hit, as pscore = |x|/4 m for |x| < 4 m and zero otherwise (outside goal). Assume the ball hits the goal where you aim with an uncertainty of one meter "
   ]
  },
  {
   "cell_type": "code",
   "execution_count": 8,
   "metadata": {},
   "outputs": [
    {
     "name": "stdout",
     "output_type": "stream",
     "text": [
      "Chance of scoring for x = 2.5 +- 1.0 is p = 0.5510\n"
     ]
    }
   ],
   "source": [
    "from scipy.stats import norm\n",
    "\n",
    "r = np.random\n",
    "r.seed(42)\n",
    "# Parameters\n",
    "aim_x = 2.5  # Aiming position (m)\n",
    "uncertainty = 1.0  # Standard deviation of aiming uncertainty (m)\n",
    "n_shots = 1000  # Number of Monte Carlo simulations\n",
    "\n",
    "# Simulate shots\n",
    "actual_hits = np.random.normal(aim_x, uncertainty, n_shots)  # Actual hit positions\n",
    "\n",
    "def p_score(x):\n",
    "    if abs(x) < 4:\n",
    "        return abs(x)/4\n",
    "    else:\n",
    "        return 0\n",
    "\n",
    "\n",
    "def simulate_scoring(x, sigma_x, num_shots):\n",
    "    actual_hits = np.random.normal(x, sigma_x, num_shots)  # Actual hit positions\n",
    "\n",
    "    pscore = np.array([p_score(x) for x in actual_hits])  # Scoring probabilities\n",
    "\n",
    "    scores = np.random.uniform(0, 1, num_shots) < pscore  # Randomly decide if each shot scores\n",
    "\n",
    "    chance_of_scoring = np.mean(scores) #Average of the scores\n",
    " \n",
    "    return chance_of_scoring\n",
    "\n",
    "chance_of_scoring = simulate_scoring(aim_x, uncertainty, n_shots)\n",
    "\n",
    "print(f\"Chance of scoring for x = {aim_x} +- {uncertainty} is p = {chance_of_scoring:.4f}\")\n"
   ]
  },
  {
   "cell_type": "code",
   "execution_count": null,
   "metadata": {},
   "outputs": [
    {
     "data": {
      "image/png": "[encoded data removed]",
      "text/plain": [
       "<Figure size 640x480 with 1 Axes>"
      ]
     },
     "metadata": {},
     "output_type": "display_data"
    },
    {
     "name": "stdout",
     "output_type": "stream",
     "text": [
      "Best shot is at x = -2.76\n"
     ]
    }
   ],
   "source": [
    "#Highest probability of scoring:\n",
    "x_shots = np.linspace(-4, 4, 10000)\n",
    "p_scores = np.array([simulate_scoring(x, 1, len(x_shots)) for x in x_shots])\n",
    "\n",
    "plt.plot(x_shots, p_scores)\n",
    "plt.xlabel(\"x (m)\")\n",
    "plt.ylabel(\"Chance of scoring\")\n",
    "plt.title(\"Chance of scoring as a function of where you shot\")\n",
    "plt.show()\n"
   ]
  },
  {
   "cell_type": "code",
   "execution_count": 13,
   "metadata": {},
   "outputs": [
    {
     "name": "stdout",
     "output_type": "stream",
     "text": [
      "Best shot is at x = -2.76 and 2.76\n"
     ]
    }
   ],
   "source": [
    "x_best_shot = x_shots[np.argmax(p_scores)]\n",
    "print(f\"Best shot is at x = {x_best_shot:.2f} and {abs(x_best_shot):.2f}\")"
   ]
  },
  {
   "cell_type": "markdown",
   "metadata": {},
   "source": [
    "### 4\n",
    "\n",
    "brug logistisk fit til den data med lande"
   ]
  },
  {
   "cell_type": "markdown",
   "metadata": {},
   "source": [
    "# 5.2 Brug eksponential og gauss"
   ]
  }
 ],
 "metadata": {
  "kernelspec": {
   "display_name": "Python 3",
   "language": "python",
   "name": "python3"
  },
  "language_info": {
   "codemirror_mode": {
    "name": "ipython",
    "version": 3
   },
   "file_extension": ".py",
   "mimetype": "text/x-python",
   "name": "python",
   "nbconvert_exporter": "python",
   "pygments_lexer": "ipython3",
   "version": "3.11.1"
  }
 },
 "nbformat": 4,
 "nbformat_minor": 2
}

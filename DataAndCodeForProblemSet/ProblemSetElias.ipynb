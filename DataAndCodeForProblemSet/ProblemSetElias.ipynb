{
 "cells": [
  {
   "cell_type": "code",
   "execution_count": 2,
   "metadata": {},
   "outputs": [],
   "source": [
    "import numpy as np\n",
    "import sympy as sp\n",
    "import matplotlib.pyplot as plt\n",
    "import iminuit\n",
    "from IPython.display import display, Math, Latex"
   ]
  },
  {
   "cell_type": "markdown",
   "metadata": {},
   "source": [
    "# **I – Distributions and probabilities:**\n"
   ]
  },
  {
   "cell_type": "markdown",
   "metadata": {},
   "source": [
    "## Problem 1.1 (6 points) An electronic device depends on three components each with independent probabilities 0.009, 0.016, and 0.027 of failing per year.\n"
   ]
  },
  {
   "cell_type": "markdown",
   "metadata": {},
   "source": [
    "### • What is the probability that the device will not fail in the first year?"
   ]
  },
  {
   "cell_type": "code",
   "execution_count": 3,
   "metadata": {},
   "outputs": [
    {
     "name": "stdout",
     "output_type": "stream",
     "text": [
      "Probability of not failing in the first year: 0.948815112\n"
     ]
    }
   ],
   "source": [
    "probabilities_of_fail_comp = np.array([0.009, 0.016, 0.027])\n",
    "probabilities_of_not_fail_comp = 1 - probabilities_of_fail_comp\n",
    "\n",
    "prob_not_fail = np.prod(probabilities_of_not_fail_comp)\n",
    "\n",
    "print(f\"Probability of not failing in the first year: {prob_not_fail}\")"
   ]
  },
  {
   "cell_type": "markdown",
   "metadata": {},
   "source": [
    "### • After how many years is the probability of failure greater than 50%?"
   ]
  },
  {
   "cell_type": "markdown",
   "metadata": {},
   "source": [
    "I need to solve the equation:\n",
    "\n",
    "$P^n = 0.5$ - Where n is the number of years\n",
    "\n",
    "Take the logarithm of both sides and isolate n:\n",
    "\n",
    "$n = \\frac{log(0.5)}{log(P)}$\n",
    "\n"
   ]
  },
  {
   "cell_type": "code",
   "execution_count": 4,
   "metadata": {},
   "outputs": [
    {
     "name": "stdout",
     "output_type": "stream",
     "text": [
      "Years until failure: 13.192419527978739\n"
     ]
    }
   ],
   "source": [
    "years_until_fail = np.log(0.5) / np.log(prob_not_fail)\n",
    "print(f\"Years until failure: {years_until_fail}\")"
   ]
  },
  {
   "cell_type": "markdown",
   "metadata": {},
   "source": [
    "## 1.2 (8 points) A store has 52.8 customers/day, and considers the top 20% busiest days to be. . . busy!"
   ]
  },
  {
   "cell_type": "markdown",
   "metadata": {},
   "source": [
    "### • What distribution should the number of daily customers follow and why? \n",
    "$\\textbf{NOT SOLVED}$"
   ]
  },
  {
   "cell_type": "markdown",
   "metadata": {},
   "source": [
    "# ***II – Error propagation:***"
   ]
  },
  {
   "cell_type": "markdown",
   "metadata": {},
   "source": [
    "## 2.1 (10 points) You make nine measurements of the speed of sound in water, and obtain as follows:"
   ]
  },
  {
   "cell_type": "code",
   "execution_count": 5,
   "metadata": {},
   "outputs": [],
   "source": [
    "Speed_of_sound = np.array([1532, 1458, 1499,1394,1432,1565,1474,1440,1597])\n",
    "speed_error = np.array([67, 55, 74, 129, 84, 19,10, 17, 14])"
   ]
  },
  {
   "cell_type": "markdown",
   "metadata": {},
   "source": [
    "### • What is the combined result and uncertainty of all your measurements?\n"
   ]
  },
  {
   "cell_type": "code",
   "execution_count": 6,
   "metadata": {},
   "outputs": [
    {
     "name": "stdout",
     "output_type": "stream",
     "text": [
      "Combined result: 1508.28 +- 6.70\n"
     ]
    }
   ],
   "source": [
    "def weighted(values, errors):\n",
    "    weights = 1 / errors**2  # Using p.83 in Barlow\n",
    "    result = np.sum(values / errors**2) / np.sum(weights)\n",
    "    error = 1 / np.sqrt(np.sum(weights))\n",
    "    # error = error* np.sqrt(np.sum(weights**2)) # This is if the data is  independent and identically distributed random variables\n",
    "    return result, error\n",
    "\n",
    "combined_result, combined_error = weighted(Speed_of_sound, speed_error)\n",
    "print(f\"Combined result: {combined_result:.2f} +- {combined_error:.2f}\")\n"
   ]
  },
  {
   "cell_type": "markdown",
   "metadata": {},
   "source": [
    "### • How much does adding the first five measurements improve the precision compared to the last four?"
   ]
  },
  {
   "cell_type": "code",
   "execution_count": null,
   "metadata": {},
   "outputs": [
    {
     "name": "stdout",
     "output_type": "stream",
     "text": [
      "Combined result for first five measurements: 1475.53 +- 32.66\n",
      "Combined result for last four measurements: 1509.72 +- 6.85\n"
     ]
    },
    {
     "ename": "NameError",
     "evalue": "name 'combined_error_last_four' is not defined",
     "output_type": "error",
     "traceback": [
      "\u001b[1;31m---------------------------------------------------------------------------\u001b[0m",
      "\u001b[1;31mNameError\u001b[0m                                 Traceback (most recent call last)",
      "Cell \u001b[1;32mIn[7], line 14\u001b[0m\n\u001b[0;32m     11\u001b[0m \u001b[38;5;28mprint\u001b[39m(\u001b[38;5;124mf\u001b[39m\u001b[38;5;124m\"\u001b[39m\u001b[38;5;124mCombined result for first five measurements: \u001b[39m\u001b[38;5;132;01m{\u001b[39;00mresult_first_five\u001b[38;5;132;01m:\u001b[39;00m\u001b[38;5;124m.2f\u001b[39m\u001b[38;5;132;01m}\u001b[39;00m\u001b[38;5;124m +- \u001b[39m\u001b[38;5;132;01m{\u001b[39;00merror_first_five\u001b[38;5;132;01m:\u001b[39;00m\u001b[38;5;124m.2f\u001b[39m\u001b[38;5;132;01m}\u001b[39;00m\u001b[38;5;124m\"\u001b[39m)\n\u001b[0;32m     12\u001b[0m \u001b[38;5;28mprint\u001b[39m(\u001b[38;5;124mf\u001b[39m\u001b[38;5;124m\"\u001b[39m\u001b[38;5;124mCombined result for last four measurements: \u001b[39m\u001b[38;5;132;01m{\u001b[39;00mresult_last_four\u001b[38;5;132;01m:\u001b[39;00m\u001b[38;5;124m.2f\u001b[39m\u001b[38;5;132;01m}\u001b[39;00m\u001b[38;5;124m +- \u001b[39m\u001b[38;5;132;01m{\u001b[39;00merror_last_four\u001b[38;5;132;01m:\u001b[39;00m\u001b[38;5;124m.2f\u001b[39m\u001b[38;5;132;01m}\u001b[39;00m\u001b[38;5;124m\"\u001b[39m)\n\u001b[1;32m---> 14\u001b[0m improvement \u001b[38;5;241m=\u001b[39m \u001b[43mcombined_error_last_four\u001b[49m \u001b[38;5;241m/\u001b[39m combined_error_first_five\n\u001b[0;32m     15\u001b[0m \u001b[38;5;28mprint\u001b[39m(\u001b[38;5;124mf\u001b[39m\u001b[38;5;124m\"\u001b[39m\u001b[38;5;124mImprovement in precision: \u001b[39m\u001b[38;5;132;01m{\u001b[39;00mimprovement\u001b[38;5;132;01m:\u001b[39;00m\u001b[38;5;124m.2f\u001b[39m\u001b[38;5;132;01m}\u001b[39;00m\u001b[38;5;124m times\u001b[39m\u001b[38;5;124m\"\u001b[39m)\n",
      "\u001b[1;31mNameError\u001b[0m: name 'combined_error_last_four' is not defined"
     ]
    }
   ],
   "source": [
    "\n",
    "first_five_measurements = Speed_of_sound[:5]\n",
    "first_five_errors = speed_error[:5]\n",
    "\n",
    "last_four_measurements = Speed_of_sound[-4:]\n",
    "last_four_errors = speed_error[-4:]\n",
    "\n",
    "result_first_five, error_first_five = weighted(first_five_measurements, first_five_errors)\n",
    "\n",
    "result_last_four, error_last_four = weighted(last_four_measurements, last_four_errors)\n",
    "\n",
    "print(f\"Combined result for first five measurements: {result_first_five:.2f} +- {error_first_five:.2f}\")\n",
    "print(f\"Combined result for last four measurements: {result_last_four:.2f} +- {error_last_four:.2f}\")\n",
    "\n",
    "improvement = result_last_four / result_first_five\n",
    "print(f\"Improvement in precision: {improvement:.2f} times\")"
   ]
  },
  {
   "cell_type": "markdown",
   "metadata": {},
   "source": [
    "# ***III – Simulation / Monte Carlo:***"
   ]
  },
  {
   "cell_type": "markdown",
   "metadata": {},
   "source": [
    "### 3.1  (10 points) You shoot a penalty, and the probability of scoring depends on the position x (in m)you hit, as pscore = |x|/4 m for |x| < 4 m and zero otherwise (outside goal). Assume the ball hits the goal where you aim with an uncertainty of one meter "
   ]
  },
  {
   "cell_type": "code",
   "execution_count": null,
   "metadata": {},
   "outputs": [
    {
     "ename": "NameError",
     "evalue": "name 'np' is not defined",
     "output_type": "error",
     "traceback": [
      "\u001b[1;31m---------------------------------------------------------------------------\u001b[0m",
      "\u001b[1;31mNameError\u001b[0m                                 Traceback (most recent call last)",
      "Cell \u001b[1;32mIn[1], line 7\u001b[0m\n\u001b[0;32m      4\u001b[0m n_shots \u001b[38;5;241m=\u001b[39m \u001b[38;5;241m1000\u001b[39m  \u001b[38;5;66;03m# Number of Monte Carlo simulations\u001b[39;00m\n\u001b[0;32m      6\u001b[0m \u001b[38;5;66;03m# Simulate shots\u001b[39;00m\n\u001b[1;32m----> 7\u001b[0m actual_hits \u001b[38;5;241m=\u001b[39m \u001b[43mnp\u001b[49m\u001b[38;5;241m.\u001b[39mrandom\u001b[38;5;241m.\u001b[39mnormal(aim_x, uncertainty, n_shots)  \u001b[38;5;66;03m# Actual hit positions\u001b[39;00m\n\u001b[0;32m      8\u001b[0m within_goal \u001b[38;5;241m=\u001b[39m np\u001b[38;5;241m.\u001b[39mabs(actual_hits) \u001b[38;5;241m<\u001b[39m \u001b[38;5;241m4\u001b[39m  \u001b[38;5;66;03m# Shots within the goal boundary\u001b[39;00m\n\u001b[0;32m      9\u001b[0m pscore \u001b[38;5;241m=\u001b[39m np\u001b[38;5;241m.\u001b[39mwhere(within_goal, np\u001b[38;5;241m.\u001b[39mabs(actual_hits) \u001b[38;5;241m/\u001b[39m \u001b[38;5;241m4\u001b[39m, \u001b[38;5;241m0\u001b[39m)  \u001b[38;5;66;03m# Scoring probabilities\u001b[39;00m\n",
      "\u001b[1;31mNameError\u001b[0m: name 'np' is not defined"
     ]
    }
   ],
   "source": [
    "# Parameters\n",
    "aim_x = 2.5  # Aiming position (m)\n",
    "uncertainty = 1.0  # Standard deviation of aiming uncertainty (m)\n",
    "n_shots = 1000  # Number of Monte Carlo simulations\n",
    "\n",
    "# Simulate shots\n",
    "actual_hits = np.random.normal(aim_x, uncertainty, n_shots)  # Actual hit positions\n",
    "within_goal = np.abs(actual_hits) < 4  # Shots within the goal boundary\n",
    "pscore = np.where(within_goal, np.abs(actual_hits) / 4, 0)  # Scoring probabilities\n",
    "\n",
    "# Determine scoring events\n",
    "scores = np.random.uniform(0, 1, n_shots) < pscore  # Randomly decide if each shot scores\n",
    "\n",
    "# Calculate the chance of scoring\n",
    "chance_of_scoring = np.mean(scores)  # Proportion of scoring shots\n",
    "\n",
    "print(f\"Chance of scoring: {chance_of_scoring:.4f}\")\n"
   ]
  },
  {
   "cell_type": "code",
   "execution_count": null,
   "metadata": {},
   "outputs": [],
   "source": [
    "N_try = 0\n",
    "ymin = 0.0      # Minimum value the function will take!\n",
    "ymax = 4.0      # Maximum value the function will take!\n",
    "x_accepted = np.zeros(n_shots) #COuld also just be a list\n",
    "\n",
    "for i in range(n_shots):\n",
    "    \n",
    "    while True:\n",
    "        \n",
    "        # Count the number of tries, to get efficiency/integral\n",
    "        N_try += 1                    \n",
    "        \n",
    "        # Range that f(x) is defined/wanted in:\n",
    "        x_test = r.uniform(xmin, xmax)  \n",
    "        \n",
    "        # Upper bound for function values:\n",
    "        y_test = r.uniform(ymin, ymax)\n",
    "        \n",
    "        if (y_test < 2 * x_test): # Accept if y < f(x)\n",
    "            break\n",
    "            \n",
    "    x_accepted[i] = x_test"
   ]
  },
  {
   "cell_type": "markdown",
   "metadata": {},
   "source": [
    "### 4\n",
    "\n",
    "brug logistisk fit til den data med lande"
   ]
  }
 ],
 "metadata": {
  "kernelspec": {
   "display_name": "Python 3",
   "language": "python",
   "name": "python3"
  },
  "language_info": {
   "codemirror_mode": {
    "name": "ipython",
    "version": 3
   },
   "file_extension": ".py",
   "mimetype": "text/x-python",
   "name": "python",
   "nbconvert_exporter": "python",
   "pygments_lexer": "ipython3",
   "version": "3.11.1"
  }
 },
 "nbformat": 4,
 "nbformat_minor": 2
}

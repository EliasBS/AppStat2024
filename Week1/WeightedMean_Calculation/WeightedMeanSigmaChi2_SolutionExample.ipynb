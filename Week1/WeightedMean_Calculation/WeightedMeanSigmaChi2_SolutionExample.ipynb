{
 "cells": [
  {
   "cell_type": "markdown",
   "metadata": {},
   "source": [
    "# Calculating Weighted Mean, Standard Deviation, $\\chi^2$ and $\\chi^2$-probability.\n",
    "\n",
    "Very small notebook testing if your calculation of the weighted mean, the standard deviation, the $\\chi^2$-value and the $\\chi^2$-probability are correct. We use as example five measurements of a distance (too a hook!) with uncertainty. You should insert your own code in the cells below. If you can run the entire notebook without any (Assertion)errors, your code has passed!\n",
    "\n",
    "***\n",
    "\n",
    "### Author(s): \n",
    "- Troels C. Petersen (Niels Bohr Institute)\n",
    "\n",
    "### Date:    \n",
    "- 14-11-2024 (latest update)"
   ]
  },
  {
   "cell_type": "code",
   "execution_count": null,
   "metadata": {},
   "outputs": [],
   "source": [
    "import numpy as np\n",
    "from scipy import stats\n",
    "from iminuit import Minuit, cost\n",
    "from matplotlib import pyplot as plt"
   ]
  },
  {
   "cell_type": "markdown",
   "metadata": {},
   "source": [
    "Below we define the data for the measurements of the heights of the hook (in mm, though that is irrelavant here) and their estimated uncertainties:"
   ]
  },
  {
   "cell_type": "code",
   "execution_count": null,
   "metadata": {
    "lines_to_next_cell": 2
   },
   "outputs": [],
   "source": [
    "dhook = np.array([17.8, 18.1, 17.7, 17.7])\n",
    "err_dhook = np.array([0.5, 0.3, 0.5, 0.2])"
   ]
  },
  {
   "cell_type": "markdown",
   "metadata": {},
   "source": [
    "## Testing the weighted mean calculation.\n",
    "\n",
    "This is where you should start pasting your code! "
   ]
  },
  {
   "cell_type": "code",
   "execution_count": null,
   "metadata": {},
   "outputs": [],
   "source": [
    "# Own implementation:\n",
    "def weighted_mean(value, error) :\n",
    "    assert(len(value) == len(error))\n",
    "    wmean = np.sum((value/(error**2)) / np.sum(1.0/(error**2)))\n",
    "    wmean_err = error = np.sqrt(1.0/np.sum(1.0/np.square(error)))\n",
    "    return wmean, wmean_err\n",
    "\n",
    "# Numpy version:\n",
    "mean_weighted_np = np.average(dhook, weights = 1.0/err_dhook**2)\n",
    "error_weighted_np = np.sqrt(1.0/np.sum(1.0/np.square(err_dhook)))\n",
    "mean_weighted, error_weighted = weighted_mean(dhook, err_dhook)\n",
    "\n",
    "print(\"Numpy method:   \", mean_weighted, error_weighted)\n",
    "print(\"Our own method: \", mean_weighted_np, error_weighted_np)\n",
    "\n",
    "assert np.isclose(mean_weighted, 17.80982367758186)"
   ]
  },
  {
   "cell_type": "markdown",
   "metadata": {},
   "source": [
    "Testing the weighted error:"
   ]
  },
  {
   "cell_type": "code",
   "execution_count": null,
   "metadata": {},
   "outputs": [],
   "source": [
    "# See above calculations:\n",
    "assert np.isclose(error_weighted, 0.15056568396854866)"
   ]
  },
  {
   "cell_type": "markdown",
   "metadata": {},
   "source": [
    "Testing the $\\chi^2$-value:"
   ]
  },
  {
   "cell_type": "code",
   "execution_count": null,
   "metadata": {},
   "outputs": [],
   "source": [
    "# Simple ChiSquare calculation:\n",
    "chi2 = np.sum((dhook - mean_weighted)**2/err_dhook**2)\n",
    "\n",
    "# Fit to constant function (more advanced):\n",
    "def cfn(x, const):\n",
    "    return np.ones_like(x)*const\n",
    "\n",
    "c = cost.LeastSquares(np.arange(len(dhook)), dhook, err_dhook, cfn)\n",
    "mfit = Minuit(c, const = 18.0)\n",
    "mfit.migrad()\n",
    "print(f\"  Chi2 values:         Sum: {chi2:8.6f}       Fit: {mfit.fval:8.6f}\")\n",
    "print(f\"  Fit result and uncertainty: \", mfit.values[0], mfit.errors[0])\n",
    "\n",
    "err_weighted = mfit.errors[0]\n",
    "pval = stats.chi2.sf(mfit.fval, len(dhook)-1)\n",
    "\n",
    "plt.errorbar(np.arange(len(dhook)), dhook, err_dhook, ls = '', capsize = 4)\n",
    "plt.hlines(mfit.values[0], 0, 3, ls = '--')\n",
    "plt.show()\n",
    "\n",
    "assert np.isclose(chi2, 1.2857430730478727)"
   ]
  },
  {
   "cell_type": "markdown",
   "metadata": {},
   "source": [
    "Testing the $\\chi^2$-probability:"
   ]
  },
  {
   "cell_type": "code",
   "execution_count": null,
   "metadata": {
    "lines_to_next_cell": 2
   },
   "outputs": [],
   "source": [
    "# Insert own code here to calculate the chi2 probability, chi2_prob\n",
    "chi2_prob = stats.chi2.sf(chi2, len(dhook)-1)\n",
    "\n",
    "print(chi2_prob)\n",
    "assert np.isclose(chi2_prob, 0.7325212770446814)"
   ]
  },
  {
   "cell_type": "markdown",
   "metadata": {},
   "source": [
    "# Learning points:\n",
    "\n",
    "You should:\n",
    "1. Know the difference between an unweighted and a weighted mean.\n",
    "2. Know that a weighted mean is like a Chi2 fit with a single parameter (the mean!).\n",
    "3. Be able to test (with Chi2 and p-value) if input values of weighted mean are consistent.   "
   ]
  }
 ],
 "metadata": {
  "executable": "/usr/bin/env python2",
  "kernelspec": {
   "display_name": "Python 3 (ipykernel)",
   "language": "python",
   "name": "python3"
  },
  "language_info": {
   "codemirror_mode": {
    "name": "ipython",
    "version": 3
   },
   "file_extension": ".py",
   "mimetype": "text/x-python",
   "name": "python",
   "nbconvert_exporter": "python",
   "pygments_lexer": "ipython3",
   "version": "3.13.0"
  },
  "main_language": "python"
 },
 "nbformat": 4,
 "nbformat_minor": 4
}

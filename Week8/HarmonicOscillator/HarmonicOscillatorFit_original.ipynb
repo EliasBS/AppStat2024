{
 "cells": [
  {
   "cell_type": "markdown",
   "metadata": {},
   "source": [
    "# Real Harmonic Oscillator Data\n",
    "\n",
    "## Description\n",
    "\n",
    "This exercise is about more advanced fitting of data, specifically **starting with a simple fit and building a more advanced one**.\n",
    "\n",
    "The idea is to begin with the simplest possible function that even remotely does the job, which is then expanded to accommodate all the features present in the data fitted. The data is from three versions of a damped harmonic oscillator, consisting of a weight hanging from a spring, but with different damping:\n",
    "- No additional damping.\n",
    "- More damping from a round piece of cardboard, which increases the drag (most interesting dataset!).\n",
    "- Damping from friction of the weight against metal.\n",
    "\n",
    "\n",
    "## Functional form of a damped harmonic oscillator:\n",
    "\n",
    "The function to fit the overall 1st and 2nd case with is known in physics as the damped harmonic oscillator, where position $p$ as a function of time $t$ behaves as:\n",
    "\n",
    "$$p(t) = A \\gamma \\cdot\\sin(\\omega t+\\phi) \\cdot\\exp(-\\gamma t)$$\n",
    "\n",
    "The 3rd case is a little different, as should become clear once plotted.\n",
    "\n",
    "\n",
    "## Your task\n",
    "\n",
    "Take a look at the various dataset, and try to fit them with an appropriate function. The first challenge is to get the fit working at all. Once this is in place, considering the patterns in the fit residuals should give you an idea of what to further include in the fit. Play around with various possible additions to the function, discussing with your peers. Remember to try to fit all three datasets.\n",
    "\n",
    "\n",
    "##  Authors: \n",
    "- Troels Petersen ([email](mailto:petersen@nbi.dk))\n",
    "\n",
    "## Date\n",
    "28th of December 2024"
   ]
  },
  {
   "cell_type": "code",
   "execution_count": null,
   "metadata": {},
   "outputs": [],
   "source": [
    "import numpy as np\n",
    "import matplotlib.pyplot as plt\n",
    "from iminuit import Minuit, cost\n",
    "from scipy import stats\n",
    "\n",
    "import matplotlib.gridspec as gridspec                          # For unequal plot boxes\n",
    "from mpl_toolkits.axes_grid1.inset_locator import inset_axes    # For insert plots\n",
    "import warnings\n",
    "warnings.filterwarnings(\"ignore\")"
   ]
  },
  {
   "cell_type": "code",
   "execution_count": null,
   "metadata": {},
   "outputs": [],
   "source": [
    "SavePlots = False\n",
    "verbose = True\n",
    "Nverbose = 10"
   ]
  },
  {
   "cell_type": "markdown",
   "metadata": {},
   "source": [
    "---\n",
    "## 1st Dataset - no additional damping"
   ]
  },
  {
   "cell_type": "code",
   "execution_count": null,
   "metadata": {},
   "outputs": [],
   "source": [
    "filename = \"data_HarmOsc1.txt\"\n",
    "    \n",
    "# Load time and position, set starting time to 0, and assign uncertainty:\n",
    "time, position = np.loadtxt(filename, unpack=True)\n",
    "time -= time[0]\n",
    "eposition = np.ones_like(position)*0.0037        # Assigning an estimated uncertainty from a calibration with no swings.\n",
    "\n",
    "# Check loaded data:\n",
    "if verbose :\n",
    "    for i in range(Nverbose) :\n",
    "        print(\"  Time = %6.3f    Position = %6.3f \"%(time[i], position[i]))\n",
    "print(\"  Number of entries read: %d    Time of last read: %6.3f\"%(len(time), time[-1]))\n",
    "\n",
    "# Sanity check (Did you check the data?):\n",
    "for i in np.where((time < -0.001) | (time > 100.0) | (position < -5.0) | (position > 5.0))[0] :\n",
    "    print(\"Warning: Strange value for time and/or dist!\", i, time[i], position[i])"
   ]
  },
  {
   "cell_type": "code",
   "execution_count": null,
   "metadata": {},
   "outputs": [],
   "source": [
    "# Plot the data:\n",
    "fig1, ax1 = plt.subplots(figsize=(16, 10))\n",
    "# ax1 = fig1.add_axes((0.1, 0.3, 0.8, 0.6))    # Add the top subfigure\n",
    "ax1.errorbar(time, position, eposition, fmt='k_', label='data', ecolor='k', elinewidth=1, capsize=1, capthick=1)\n",
    "ax1.set_xlabel(\"Time (seconds)\", fontsize=18)\n",
    "ax1.set_ylabel(\"Position (arb. units)\", fontsize=18)\n",
    "#ax1.set_ylim(top=ax1.get_ylim()[1]*2.5)\n",
    "fig1.tight_layout;"
   ]
  },
  {
   "cell_type": "code",
   "execution_count": null,
   "metadata": {},
   "outputs": [],
   "source": [
    "# First fit function is a (initially too) simple harmonic oscillator:\n",
    "def func_sho1(x, A, omega, phi, c) :\n",
    "    return A * np.cos(omega*x + phi) + c"
   ]
  },
  {
   "cell_type": "code",
   "execution_count": null,
   "metadata": {},
   "outputs": [],
   "source": [
    "# Fit the data:\n",
    "tmax = 38.0                              # Maximum of time range fitted\n",
    "mask = time < tmax\n",
    "cfit = cost.LeastSquares(time[mask], position[mask], eposition[mask], func_sho1)\n",
    "mfit = Minuit(cfit, A=0.5, omega=1.0, phi=0.0, c=-0.1)\n",
    "mfit.migrad()"
   ]
  },
  {
   "cell_type": "code",
   "execution_count": null,
   "metadata": {},
   "outputs": [],
   "source": [
    "chi2 = mfit.fval\n",
    "ndof = len(time[mask])-len(mfit.values[:])\n",
    "prob = stats.chi2.sf(chi2, ndof)\n",
    "\n",
    "# Calculate residuals:\n",
    "res_position = position - func_sho1(time, *mfit.values[:])\n",
    "\n",
    "# Plot with common x-axis:\n",
    "fig, axs = plt.subplots(2, 1, figsize=(15,10), sharex=True)\n",
    "fig.subplots_adjust(hspace=0)       # Remove vertical space between Axes\n",
    "\n",
    "# Main plot with fit on top:\n",
    "axs[0].errorbar(time, position, eposition, fmt='k_', label='Data', ecolor='k', elinewidth=1, capsize=1, capthick=1)\n",
    "axs[0].set_ylabel(\"Position (arb. units)\", fontsize=18)\n",
    "axs[0].set_xlim(time[0], time[-1])\n",
    "\n",
    "# Draw the function on top of the data:\n",
    "x_fit = np.linspace(0, tmax, 1000)\n",
    "y_fit = func_sho1(x_fit, *mfit.values[:])\n",
    "axs[0].plot(time, func_sho1(time, *mfit.values[:]), 'r', linewidth=2.0, label='Simple Harmonic Oscillator')\n",
    "\n",
    "# Put fit info into plot:\n",
    "fit_info = [f\"$\\\\chi^2$ / $N_\\\\mathrm{{dof}}$ = {chi2:.1f} / {ndof}\", f\"Prob($\\\\chi^2$, $N_\\\\mathrm{{dof}}$) = {prob:.3f}\",]\n",
    "for p, v, e in zip(mfit.parameters, mfit.values[:], mfit.errors[:]) :\n",
    "    Ndecimals = max(0,-np.int32(np.log10(e)-1-np.log10(2)))                                # Number of significant digits\n",
    "    fit_info.append(f\"{p} = ${v:{10}.{Ndecimals}{\"f\"}} \\\\pm {e:{10}.{Ndecimals}{\"f\"}}$\")\n",
    "axs[0].legend(title=\"\\n\".join(fit_info), fontsize=18, title_fontsize=18, alignment = 'center', loc='upper right');\n",
    "\n",
    "# Residual plot:\n",
    "axs[1].errorbar(time, res_position, eposition, fmt='r_', label='Residuals', ecolor='r', elinewidth=1, capsize=1, capthick=1)\n",
    "axs[1].set_xlabel(\"Time (seconds)\", fontsize=18)\n",
    "axs[1].set_ylabel(\"Residual Position\", fontsize=18)\n",
    "\n",
    "# Finalize the figure\n",
    "if (SavePlots) :\n",
    "    fig.savefig(\"Fit_HarmOsc1.pdf\", dpi=600)"
   ]
  },
  {
   "cell_type": "markdown",
   "metadata": {},
   "source": [
    "## Questions to 1st dataset:\n",
    "\n",
    "1. Look at the data file and plot and see if you can by eye (or simple fits) estimate\n",
    "   the size of the uncertainty of the points. It is not easy, but you should be able\n",
    "   to get it to within a factor of 2-3. Discuss it with your neighbor/group, and try\n",
    "   to come up with an estimate.\n",
    "***\n",
    "_5-10 minutes (success or failure) later_...\n",
    "***\n",
    "\n",
    "   If you didn't know how to estimate this uncertainty, then try to zoom in on a very\n",
    "   small part of the curve (say xy: [0.1,0.3] x [-0.6,0.4]) in a large (e.g. 15x20) plot,\n",
    "   where it should be possible to fit it with a line.\n",
    "   Since you know that for a small enough range of the data, this will be a reasonable\n",
    "   model to use, you can extract the error from the Std. of the residuals, which gives you\n",
    "   a rough estimate of the errors on the points (remember the pendulum timing!).\n",
    "   Compare the error you got to the one I put in.\n",
    "\n",
    "2. Once you have tried, set the error to 0.0037, and try to make the harmonic oscillator\n",
    "   fit converge. Do you manage? If not, do you understand what the problem is?\n",
    "***\n",
    "_10-15 minutes (success or failure) later_...\n",
    "***\n",
    "\n",
    "3. Did the fit converge? I imagine that it didn't thought it might have. If it didn't, my\n",
    "   guess on why would be initial parameters, which need to be set quite accurately in this case.\n",
    "   Try to draw the fit function on top of the data, and adjust the parameters until it does.\n",
    "***\n",
    "_10-15 minutes (success or failure) later_...\n",
    "***\n",
    "\n",
    "4. Once you have a functioning harmonic oscillator fit running, then the fit\n",
    "   will probably look reasonable. Don't worry too much about the ChiSquare value - it is hard to\n",
    "   know the uncertainty anyway, and there may be a myriad of effects in the data.\n",
    "   However, the residuals still clearly have a lot of structure, which are thus features not\n",
    "   included/accounted for in the fit. So you should try to add complexity to your fitting function.\n",
    "\n",
    "   The way to judge, if you are doing something right is to see if the ChiSquare (and the residuals)\n",
    "   reduce every time you introduce something in addition. The ChiSquare should decrease \"significantly\"\n",
    "   (*) every time, otherwise, the addition does not cover any corresponding effect in the data, but\n",
    "   simply statistical variations.\n",
    "\n",
    "(*) Remember, that a reduction in ChiSquare of say 9 correponds to a $\\sqrt{9} = 3$ sigma effect,\n",
    "and thus this is the order of magnitude, it should decrease (a matter of judgement and how reasonable\n",
    "the effect introduced is).\n",
    "\n",
    "As inspiration to the more advanced fit, I could ask:\n",
    " - How to include the slight but clearly visible damping in the fit?\n",
    " - Are the period (omega) and/or phase (phi) constant?\n",
    " - Are there more than one exponential/oscillation in the system?"
   ]
  },
  {
   "cell_type": "markdown",
   "metadata": {},
   "source": [
    "---\n",
    "\n",
    "## 2nd Dataset\n",
    "\n",
    "This dataset was acquired with the help of an overdamped oscillator (a cardboard panel was added to the weight, thereby increasing the atospheric drag of the system). This not only increases the damping, but also increases the complexity a bit."
   ]
  },
  {
   "cell_type": "code",
   "execution_count": null,
   "metadata": {},
   "outputs": [],
   "source": [
    "filename = \"data_HarmOsc2.txt\"\n",
    "    \n",
    "# Load time and position, set starting time to 0, and assign uncertainty:\n",
    "time2, position2 = np.loadtxt(filename, unpack=True)\n",
    "time2 -= time2[0]\n",
    "eposition2 = np.ones_like(position2)*0.0029        # Assigning an estimated uncertainty from a calibration with no swings.\n",
    "\n",
    "# Check loaded data:\n",
    "if verbose :\n",
    "    for i in range(Nverbose) :\n",
    "        print(\"  Time = %6.3f    Position = %6.3f \"%(time2[i], position2[i]))\n",
    "print(\"  Number of entries read: %d    Time of last read: %6.3f\"%(len(time2), time2[-1]))\n",
    "\n",
    "# Sanity check (Did you check the data?):\n",
    "for i in np.where((time2 < -0.001) | (time2 > 100.0) | (position2 < -5.0) | (position2 > 5.0))[0] :\n",
    "    print(\"Warning: Strange value for time and/or dist!\", i, time2[i], position2[i])"
   ]
  },
  {
   "cell_type": "code",
   "execution_count": null,
   "metadata": {},
   "outputs": [],
   "source": [
    "# Plot the data:\n",
    "fig2, ax2 = plt.subplots(figsize=(16, 10))\n",
    "ax2.errorbar(time2, position2, eposition2, fmt='k_', label='data', ecolor='k', elinewidth=1, capsize=1, capthick=1)\n",
    "ax2.set_xlabel(\"Time (seconds)\", fontsize=18)\n",
    "ax2.set_ylabel(\"Position (arb. units)\", fontsize=18)\n",
    "fig2.tight_layout;"
   ]
  },
  {
   "cell_type": "markdown",
   "metadata": {},
   "source": [
    "## Questions to 2nd dataset:\n",
    "\n",
    "Again, make a simple harmonic oscillator fit run. Now your job is to expand on the fitting function\n",
    "and introduce terms to include various effects and thus reduce the Chi2. Set your fit to the range [0.0,36.0], and see how low a Chi2 you can get.\n",
    "\n",
    "Also, can you see a change in the oscillation behaviour at some point? There seems to be a point at which something changes (damping goes from turbulent to regular?). Does your result improve, if you divide your fit into two parts around there? Three? Twenty?"
   ]
  },
  {
   "cell_type": "markdown",
   "metadata": {},
   "source": [
    "\n",
    "----\n",
    "\n",
    "## 3rd Dataset\n",
    "\n",
    "This set corresponds to a set up in which the oscillator is __slowed__ by sliding constantly along a metal plate."
   ]
  },
  {
   "cell_type": "code",
   "execution_count": null,
   "metadata": {},
   "outputs": [],
   "source": [
    "filename = \"data_HarmOsc3.txt\"\n",
    "    \n",
    "# Load time and position, set starting time to 0, and assign uncertainty:\n",
    "time3, position3 = np.loadtxt(filename, unpack=True)\n",
    "time3 -= time3[0]\n",
    "eposition3 = np.ones_like(position3)*0.0139        # Assigning an estimated uncertainty from a calibration with no swings.\n",
    "\n",
    "# Check loaded data:\n",
    "if verbose :\n",
    "    for i in range(Nverbose) :\n",
    "        print(\"  Time = %6.3f    Position = %6.3f \"%(time3[i], position3[i]))\n",
    "print(\"  Number of entries read: %d    Time of last read: %6.3f\"%(len(time3), time3[-1]))\n",
    "\n",
    "# Sanity check (Did you check the data?):\n",
    "for i in np.where((time3 < -0.001) | (time3 > 100.0) | (position3 < -5.0) | (position3 > 5.0))[0] :\n",
    "    print(\"Warning: Strange value for time and/or dist!\", i, time3[i], position3[i])"
   ]
  },
  {
   "cell_type": "code",
   "execution_count": null,
   "metadata": {},
   "outputs": [],
   "source": [
    "# Plot the data:\n",
    "fig3, ax3 = plt.subplots(figsize=(16, 10))\n",
    "ax3.errorbar(time3, position3, eposition3, fmt='k_', label='data', ecolor='k', elinewidth=1, capsize=1, capthick=1)\n",
    "ax3.set_xlabel(\"Time (seconds)\", fontsize=18)\n",
    "ax3.set_ylabel(\"Position (arb. units)\", fontsize=18)\n",
    "fig3.tight_layout;"
   ]
  },
  {
   "cell_type": "markdown",
   "metadata": {},
   "source": [
    "## Questions to 3rd dataset:\n",
    "\n",
    "The 3rd dataset exhibits a different type of damping in the oscillation. Fit this, and determine at which point in time the oscillation stops."
   ]
  },
  {
   "cell_type": "markdown",
   "metadata": {},
   "source": [
    "#### Notes on possible additions to the damped harmonic oscillator fit function:"
   ]
  },
  {
   "cell_type": "code",
   "execution_count": null,
   "metadata": {},
   "outputs": [],
   "source": [
    "# Possible additions to especially the 2nd dataset could be:\n",
    "#    def fit2(x,p0,p1,p2,p3,p4,p5,p6,p7) :           return p0 + p1 *  np.exp(-p2*x)                    * np.cos(p3+p4*x)         * (1.0 + p5*np.cos(p6*x+p7))\n",
    "#    def fit3(x,p0,p1,p2,p3,p4,p5,p6,p7,p8) :        return p0 + p1 *  np.exp(-p2*x)                    * np.cos(p3+p4*x+p8*x**2) * (1.0 + p5*np.cos(p6*x+p7))\n",
    "#    def fit4(x,p0,p1,p2,p3,p4,p5,p6,p7,p8,p9,p10) : return p0 + p1 * (np.exp(-p2*x)+p9*np.exp(-p10*x)) * np.cos(p3+p4*x+p8*x**2) * (1.0 + p5*np.cos(p6*x+p7))"
   ]
  },
  {
   "cell_type": "markdown",
   "metadata": {},
   "source": [
    "# Learning points:\n",
    "\n",
    "As stated, this is an exercise in starting with a simple fit and building a more advanced one.\n",
    "\n",
    "Following this exercise, you should have experience in:\n",
    "1. The idea of building a more and more advanced fit by adding fit terms/parameters.\n",
    "2. The usefulness of the fit residuals to\n",
    "  - determine the effect of an added fit term/parameter.\n",
    "  - guide you in realising what the next effect to model in the fit is.\n",
    "3. Knowing how to judge the significance of an added term/parameter.\n",
    "\n",
    "To some extend, the exercise resembles (data) science in general: You look at the data, and try out a simple model. If it fails, then you try something different, and now you can compare the two. And then you add more details to the models that seem to work, and then you might reach the point, where the model actually describes the data in \"enough\" detail, that you are satisfied.\n",
    "\n",
    "You may take the task/process far, which is a great exercise. However, before you remember the wise words of George Box:\n",
    "_\"All models are flawed, but some are useful\"._"
   ]
  }
 ],
 "metadata": {
  "executable": "/usr/bin/env python",
  "kernelspec": {
   "display_name": "Python 3 (ipykernel)",
   "language": "python",
   "name": "python3"
  },
  "language_info": {
   "codemirror_mode": {
    "name": "ipython",
    "version": 3
   },
   "file_extension": ".py",
   "mimetype": "text/x-python",
   "name": "python",
   "nbconvert_exporter": "python",
   "pygments_lexer": "ipython3",
   "version": "3.13.0"
  },
  "main_language": "python"
 },
 "nbformat": 4,
 "nbformat_minor": 4
}

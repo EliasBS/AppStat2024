{
 "cells": [
  {
   "cell_type": "markdown",
   "id": "8656b76f-b2c9-4db5-94c1-ad814bb5d838",
   "metadata": {},
   "source": [
    "# Problem 1.2"
   ]
  },
  {
   "cell_type": "code",
   "execution_count": 1,
   "id": "e76dae7b-de96-4268-91c7-36e4e116b0ae",
   "metadata": {},
   "outputs": [],
   "source": [
    "import numpy as np\n",
    "import matplotlib.pyplot as plt\n",
    "#import seaborn as sns\n",
    "from iminuit import Minuit\n",
    "import sys\n",
    "#from sympy import *\n",
    "from functools import partial \n",
    "from scipy import stats\n",
    "import scipy\n",
    "from tqdm import tqdm"
   ]
  },
  {
   "cell_type": "markdown",
   "id": "ffe8df4e-4de8-409d-80d1-b647569cd427",
   "metadata": {},
   "source": [
    "## A game is designed such that on average 40% of persons will win it.\n",
    "- If 20 random persons play the game, what is the chance that 11 or more will win it\n",
    "\n",
    "The distribution of outcomes will follow a binomial distribution; There is a set number (n = 20, the amount of\n",
    "people) of identical and independent trials, with a set probability (p = 40%) for one of two possible outcomes\n",
    "(win and loss). The distribution of numbers of wins, r is then given by the binomial probability mass function\n",
    "$P_{binom}(r; p = 0.4, n = 20)$. The probability that 11 or more people win, is given by the sum of probabilities,\n",
    "from r = 11 to r = 20, and can be evaluated using scipy’s stats.binom.pmf() function.\n",
    "\n",
    "$$\\sum_{r = 11}^{20} = P_{binom}(r; p = 0.4, n = 20)$$"
   ]
  },
  {
   "cell_type": "code",
   "execution_count": 3,
   "id": "ffebf77e-8e7c-4759-b711-405d122dfab3",
   "metadata": {},
   "outputs": [
    {
     "name": "stdout",
     "output_type": "stream",
     "text": [
      "0.12752123515210045\n"
     ]
    }
   ],
   "source": [
    "result = 0 \n",
    "p = .4\n",
    "n = 20\n",
    "for r in range(11,20):\n",
    "    result += stats.binom.pmf(r,n,p)\n",
    "print(result)\n"
   ]
  },
  {
   "cell_type": "code",
   "execution_count": null,
   "id": "fb5f89cf-3912-4d52-947a-ea6f79370473",
   "metadata": {},
   "outputs": [],
   "source": []
  }
 ],
 "metadata": {
  "kernelspec": {
   "display_name": "Python 3 (ipykernel)",
   "language": "python",
   "name": "python3"
  },
  "language_info": {
   "codemirror_mode": {
    "name": "ipython",
    "version": 3
   },
   "file_extension": ".py",
   "mimetype": "text/x-python",
   "name": "python",
   "nbconvert_exporter": "python",
   "pygments_lexer": "ipython3",
   "version": "3.12.7"
  }
 },
 "nbformat": 4,
 "nbformat_minor": 5
}

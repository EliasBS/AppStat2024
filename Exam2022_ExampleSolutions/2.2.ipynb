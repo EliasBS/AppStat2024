{
 "cells": [
  {
   "cell_type": "code",
   "execution_count": null,
   "id": "b01e99cb-8a1e-443f-8395-39538e56396e",
   "metadata": {},
   "outputs": [],
   "source": [
    "import numpy as np\n",
    "import matplotlib.pyplot as plt\n",
    "from iminuit import Minuit, cost\n",
    "import sys\n",
    "from functools import partial \n",
    "from scipy import stats, optimize\n",
    "import scipy\n",
    "from tqdm import tqdm\n",
    "from sympy import *"
   ]
  },
  {
   "cell_type": "markdown",
   "id": "462d66fb-a949-441e-a2a3-9de7e4fa2ef4",
   "metadata": {},
   "source": [
    "## In a (Cavendish) experiment, you have made five measurements of Earth’s density $\\rho$"
   ]
  },
  {
   "cell_type": "code",
   "execution_count": 7,
   "id": "ba96427e-2336-4b81-b85a-7f9dd6c24419",
   "metadata": {},
   "outputs": [],
   "source": [
    "rho = np.array([5.5, 5.61, 4.88, 5.07, 5.26])\n",
    "rho_error = np.array([.1, .21, .15, .14, .13])\n"
   ]
  },
  {
   "cell_type": "markdown",
   "id": "adcc52f5-5590-4df6-a903-08a7f23b6b6c",
   "metadata": {},
   "source": [
    "- What is the combined result and uncertainty of these five measurements?\n",
    "\n",
    "The combined result can be found by taking their weighted mean, either manually or using the numpy average method\n",
    "\n",
    "Thou not required for the exercise, we can then compute the uncertainty of the weighted mean as\n",
    "$$\\sigma_{weighted} = \\sqrt {\\sum  \\frac{1}{\\sigma^2}}$$\n",
    "\n",
    "Likewise we can use the Chi2 method to fit the data to a constant value, this yields the same results"
   ]
  },
  {
   "cell_type": "code",
   "execution_count": 10,
   "id": "52c83a5d-5dfe-4b74-b61d-7aefec0f9141",
   "metadata": {},
   "outputs": [
    {
     "name": "stdout",
     "output_type": "stream",
     "text": [
      "0.06005034708204228\n",
      "(np.float64(5.279305828390055), np.float64(0.06005034708204228)) 0.06005034708204228 Manual\n",
      "5.279041095890411 Numpy\n",
      "(5,)\n",
      "5.279305828381988 0.06005034706026787 Chi2\n"
     ]
    }
   ],
   "source": [
    "def weighted_mean(value, error): # Manual method\n",
    "    assert(len(value) == len(error))\n",
    "    wmean = np.sum((value/(error**2)) / np.sum(1/(error**2)))\n",
    "    wmean_err = error = np.sqrt(1/np.sum(1/np.square(error)))\n",
    "    return wmean, wmean_err\n",
    "\n",
    "solution = weighted_mean(rho, rho_error)\n",
    "\n",
    "solution_np = np.average(rho, weights = rho_error)\n",
    "\n",
    "error = np.sqrt(1/np.sum(1/np.square(rho_error)))\n",
    "print(error)\n",
    "\n",
    "print(solution, error, 'Manual')\n",
    "print(solution_np, 'Numpy')\n",
    "\n",
    "def mean_chi(x,a):\n",
    "    return np.ones_like(x)*a\n",
    "\n",
    "print(rho.shape)\n",
    "\n",
    "chi2_fit = cost.LeastSquares( np.ones_like(rho), rho, rho_error, mean_chi)\n",
    "chi2_fit = Minuit(chi2_fit, a = np.mean(rho))\n",
    "chi2_fit.migrad()\n",
    "print(chi2_fit.values['a'], chi2_fit.errors['a'], 'Chi2')\n",
    "\n",
    "\n"
   ]
  },
  {
   "cell_type": "markdown",
   "id": "6141ed00-009f-41c7-9c78-5c13e9109c86",
   "metadata": {},
   "source": [
    "- Are your measurements consistent with each other? If not, what is then your best estimate?\n",
    "\n",
    "To test if the data is consisten we evaluate the $\\chi^2$ found previously. From this we can see that our fit only evaluates to a p value of 0.0022, meaning even at a significance level of 1% we would not be able to conclude that the measurements are consistent.\n",
    "If we plot the data and the fit together with multiples of the $\\chi^2$ error we can quickly spot several measurements, that are far from the fitted value. Here data point 3 looks like the biggest offender with data point 2 quickly following. In this example it is very easy to spot outliers, but this wont be the case always, we therefor evaluate all points for their distance in $\\sigma$ away from the fitted mean."
   ]
  },
  {
   "cell_type": "code",
   "execution_count": 11,
   "id": "4f916bf3-f824-4881-9c2a-8aeebcb98a0f",
   "metadata": {},
   "outputs": [
    {
     "name": "stdout",
     "output_type": "stream",
     "text": [
      "P value 0.0022162034837357653\n"
     ]
    },
    {
     "name": "stderr",
     "output_type": "stream",
     "text": [
      "<>:20: SyntaxWarning: invalid escape sequence '\\s'\n",
      "<>:20: SyntaxWarning: invalid escape sequence '\\s'\n",
      "/tmp/ipykernel_62869/2968357492.py:20: SyntaxWarning: invalid escape sequence '\\s'\n",
      "  ax.set(ylabel = '$|\\sigma|$', xlabel = 'Data', ylim = (0,3))\n"
     ]
    },
    {
     "data": {
      "text/plain": [
       "[Text(0, 0.5, '$|\\\\sigma|$'), Text(0.5, 0, 'Data'), (0.0, 3.0)]"
      ]
     },
     "execution_count": 11,
     "metadata": {},
     "output_type": "execute_result"
    },
    {
     "data": {
      "image/png": "[encoded data removed]",
      "text/plain": [
       "<Figure size 700x600 with 1 Axes>"
      ]
     },
     "metadata": {},
     "output_type": "display_data"
    },
    {
     "data": {
      "image/png": "[encoded data removed]",
      "text/plain": [
       "<Figure size 700x200 with 1 Axes>"
      ]
     },
     "metadata": {},
     "output_type": "display_data"
    }
   ],
   "source": [
    "Chi2_val = np.sum((rho - solution[0])**2/(rho_error**2)) # Calculate the chi2 value by hand using the value obtained from the weighted mean\n",
    "P_val = stats.chi2.sf(chi2_fit.fval, 4)\n",
    "P_val = stats.chi2.sf(Chi2_val, 4)\n",
    "\n",
    "print('P value', P_val)\n",
    "\n",
    "fig, ax = plt.subplots(1,1, figsize = (7,6))\n",
    "Xn = np.arange(0,len(rho),1)\n",
    "ax.errorbar(Xn, rho, yerr = rho_error, ls = '', color = 'red')\n",
    "ax.scatter(Xn, rho, color = 'black', label = 'Data')\n",
    "ax.hlines(chi2_fit.values['a'], -1, 5, ls = '--', color = 'grey')\n",
    "ax.fill_between([-1,5], chi2_fit.values['a'] - chi2_fit.errors['a'],   chi2_fit.values['a'] + chi2_fit.errors['a'], color = 'blue', alpha = .1)\n",
    "ax.fill_between([-1,5], chi2_fit.values['a'] - 2*chi2_fit.errors['a'],   chi2_fit.values['a'] + 2*chi2_fit.errors['a'], color = 'blue', alpha = .1)\n",
    "ax.fill_between([-1,5], chi2_fit.values['a'] - 3*chi2_fit.errors['a'],   chi2_fit.values['a'] + 3*chi2_fit.errors['a'], color = 'blue', alpha = .1)\n",
    "\n",
    "\n",
    "fig, ax = plt.subplots(1,1, figsize = (7,2))\n",
    "distance = np.abs(rho - chi2_fit.values['a'])/rho_error\n",
    "ax.plot(Xn, distance, ls = '--', marker = 'o')\n",
    "ax.set(ylabel = '$|\\sigma|$', xlabel = 'Data', ylim = (0,3))\n",
    "\n"
   ]
  },
  {
   "cell_type": "markdown",
   "id": "b89d9a6b-cfb9-4b1e-9c84-f5496d7ebc87",
   "metadata": {},
   "source": [
    "We therefor choose to discard measurement number 3, evaluate the average mean once again and compute the $\\chi^2$ and associated p value. Now the P value is above 1% and for certain aplications, this would be enough. If we want to be more strict we could try to delete the next most outlying data point in order to get a higher p value. In this case I would choose not to as we then would run into a case with very few samples. When trying to evaluate data we need to find the sweetspot between enough data and data that are consistent."
   ]
  },
  {
   "cell_type": "code",
   "execution_count": 14,
   "id": "ac41312b-b48a-4b9c-a094-f0328dcbdf1a",
   "metadata": {},
   "outputs": [
    {
     "name": "stdout",
     "output_type": "stream",
     "text": [
      "P value 0.041023812559931046\n"
     ]
    }
   ],
   "source": [
    "rho_new = rho[[0,1,3,4]]\n",
    "rho_error_new = rho_error[[0,1,3,4]]\n",
    "solution_new = weighted_mean(rho_new, rho_error_new)\n",
    "error_new = np.sqrt(1/np.sum(1/np.square(rho_error_new)))\n",
    "\n",
    "\n",
    "Chi2_val = np.sum((rho_new - solution_new[0])**2/(rho_error_new**2)) # Calculate the chi2 value by hand using the value obtained from the weighted mean\n",
    "P_val = stats.chi2.sf(Chi2_val, 3)\n",
    "\n",
    "print('P value', P_val)\n",
    "\n",
    "\n",
    "\n"
   ]
  },
  {
   "cell_type": "markdown",
   "id": "fbd62173-aaa4-408d-989a-4c4d8ce9760e",
   "metadata": {},
   "source": [
    "- The precise value is 5.514 g/cm3. How consistent is you measurement with this number?\n",
    "\n",
    "  The agreement with the expected value can be calculated by performing a one-sample test, to calculate the\n",
    "probability of obtaining the result from problem 2.2.2. This is a two-sided test, as we are only interested in\n",
    "the probability of obtaining the gotten result or worse, without particular interest in whether the result lies\n",
    "above or below the true value. As there are very few values (4 points), the result cannot be expected to follow\n",
    "a Gaussian distribution, and a student’s t-distribution is used to obtain a probability\n",
    "$$ t = \\frac{\\mu_{measured} - \\mu_{correct}}{\\sigma_{measured}}$$\n",
    "To obtain a p-value from this, the student’s t-distribution survival function is used, as implemented in scipy’s\n",
    "library called stats.t.sf(). The calculation has 3 degrees of freedom, as one is lost to estimating the mean. Here we get a value above the 5%, suggesting that there is agreement between the true value and the measured once. If we run the same analysis on the full set of data from the begining we get a p value below 5% agin"
   ]
  },
  {
   "cell_type": "code",
   "execution_count": 18,
   "id": "e35c5533-3b1c-47cf-b3d1-7a34f86b09f3",
   "metadata": {},
   "outputs": [
    {
     "name": "stdout",
     "output_type": "stream",
     "text": [
      "0.09429856557592477\n",
      "0.01741897250505446\n"
     ]
    }
   ],
   "source": [
    "t = (solution_new[0] - 5.514)/error_new\n",
    "p_val = 2*stats.t.sf(abs(t),3)\n",
    "print(p_val)\n",
    "t = (solution[0] - 5.514)/error\n",
    "p_val = 2*stats.t.sf(abs(t),4)\n",
    "print(p_val)\n",
    "\n",
    "\n"
   ]
  },
  {
   "cell_type": "code",
   "execution_count": null,
   "id": "4f116fa9-e663-4d62-b84a-d72b5fdf69f5",
   "metadata": {},
   "outputs": [],
   "source": []
  }
 ],
 "metadata": {
  "kernelspec": {
   "display_name": "Python 3 (ipykernel)",
   "language": "python",
   "name": "python3"
  },
  "language_info": {
   "codemirror_mode": {
    "name": "ipython",
    "version": 3
   },
   "file_extension": ".py",
   "mimetype": "text/x-python",
   "name": "python",
   "nbconvert_exporter": "python",
   "pygments_lexer": "ipython3",
   "version": "3.12.7"
  }
 },
 "nbformat": 4,
 "nbformat_minor": 5
}
